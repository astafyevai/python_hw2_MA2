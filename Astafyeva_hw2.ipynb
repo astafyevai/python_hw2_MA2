{
 "cells": [
  {
   "cell_type": "code",
   "execution_count": 20,
   "metadata": {},
   "outputs": [],
   "source": [
    "import pandas as pd\n",
    "import csv\n",
    "import sqlite3"
   ]
  },
  {
   "cell_type": "code",
   "execution_count": 21,
   "metadata": {},
   "outputs": [],
   "source": [
    "df_analysis = pd.read_csv('analysis_data.csv') #downloading csv-files\n",
    "df_groups = pd.read_csv('groups_data.csv')"
   ]
  },
  {
   "cell_type": "code",
   "execution_count": 22,
   "metadata": {},
   "outputs": [],
   "source": [
    "con = sqlite3.connect(\"research.db\") #creating database\n",
    "cur = con.cursor()"
   ]
  },
  {
   "cell_type": "code",
   "execution_count": 23,
   "metadata": {},
   "outputs": [],
   "source": [
    "df_analysis.to_sql(name='speakers', con=con, if_exists='replace') #The table contains vowel duration data by speakers (participants of the experiment).\n",
    "df_groups.to_sql(name='groups', con=con, if_exists='replace') #The table contains words classification by groupes of the reduced vowels' position."
   ]
  },
  {
   "cell_type": "code",
   "execution_count": 24,
   "metadata": {},
   "outputs": [
    {
     "name": "stdout",
     "output_type": "stream",
     "text": [
      "[('што́тъ', 0.052396071978719996), ('што́л’ь', 0.04967128657084901), ('э́тът', 0.048566795191439), ('э́тът', 0.047856937397550994), ('кан’е́шнъ', 0.04631847792586)]\n"
     ]
    }
   ],
   "source": [
    "#query №1. The aim is to check the longest redused vowels' duration in database. First, one can see max-duration; second, this query gives information about positions of the sounds (in all the cases it is the end of the word). \n",
    "\n",
    "cur.execute('SELECT word, duration FROM speakers ORDER BY duration DESC LIMIT 5')\n",
    "print(cur.fetchall())"
   ]
  },
  {
   "cell_type": "code",
   "execution_count": 25,
   "metadata": {},
   "outputs": [
    {
     "name": "stdout",
     "output_type": "stream",
     "text": [
      "[(6,), (9,), (10,)]\n"
     ]
    }
   ],
   "source": [
    "#query №2. Here one can get information about speakers who are younger than 18 y. o. (speakers 6, 9 and 10).\n",
    "\n",
    "cur.execute('SELECT DISTINCT speaker FROM speakers WHERE age < 18')\n",
    "print(cur.fetchall())"
   ]
  },
  {
   "cell_type": "code",
   "execution_count": 26,
   "metadata": {},
   "outputs": [
    {
     "name": "stdout",
     "output_type": "stream",
     "text": [
      "[(1,), (2,), (4,), (8,), (10,)]\n"
     ]
    }
   ],
   "source": [
    "#query №3. The result of the query illustrates id of the male speakers. \n",
    "\n",
    "cur.execute('SELECT DISTINCT speaker FROM speakers WHERE gender = \\'m\\' ')\n",
    "print(cur.fetchall())"
   ]
  },
  {
   "cell_type": "code",
   "execution_count": 27,
   "metadata": {},
   "outputs": [
    {
     "name": "stdout",
     "output_type": "stream",
     "text": [
      "[('пъзван’у́',), ('дъвышто́',), ('хърашо́',), ('пр’Ьхажа́н’ьн',), ('вЪсказа́л’ь',), ('нъ̊дава́и̯т’ь',), ('н’Ьпр’ьпъм’ина́и̯ь',), ('съ̊ицы́т',), ('зЪдава́и̯т’ь',), ('н’ьпр’ьпЪм’ина́и̯ь',), ('нъ̊вапщ’е́',), ('дъмЪфстр’ич’а́л’ьс’',), ('дЪмъфстр’ич’а́л’ьс’',), ('нъ̊!дава́и̯т’ь',), ('дамЪфстр’ич’а́л’ьс’',), ('дъшто́вы',), ('н’ьпр’ьпЪм’ина́и̯ъ',), ('нь̊мЪфстр’ич’а́л’ьс’',), ('мЪфстр’ич’а́л’ьс’',), (\"пъзван’ит'ь\",), ('нь̊мъфстр’ич’а́л’ьс’',)]\n"
     ]
    }
   ],
   "source": [
    "#query №4. The result demonstrates all the word of pre-stressed reduced vowels after non-palatalized consonant in the database. This groups of redused vowels named as 5 in column group_id.\n",
    "\n",
    "cur.execute('SELECT word FROM groups WHERE group_id = 5')\n",
    "print(cur.fetchall())"
   ]
  },
  {
   "cell_type": "code",
   "execution_count": 28,
   "metadata": {},
   "outputs": [
    {
     "name": "stdout",
     "output_type": "stream",
     "text": [
      "[(12,)]\n"
     ]
    }
   ],
   "source": [
    "#query №5. The output of the query provides information about amount of pre-stressed reduced vowels after palatalized consonant in database (which is named as 1 in column group_id)\n",
    "\n",
    "cur.execute('SELECT COUNT(word) FROM groups WHERE group_id = 1')\n",
    "print(cur.fetchall())"
   ]
  },
  {
   "cell_type": "code",
   "execution_count": 29,
   "metadata": {},
   "outputs": [
    {
     "name": "stdout",
     "output_type": "stream",
     "text": [
      "[(0.032297816497995346,)]\n"
     ]
    }
   ],
   "source": [
    "#query №6.1. The aim of the work was to compare the durations of the reduces vowels in reading and spontaneous speech conditions. The query 6.1 is aimed to get information about vowel duration of female speakers in reading condition.\n",
    "\n",
    "cur.execute('SELECT AVG(duration) FROM speakers WHERE gender = \\'f\\' AND condition = 0')\n",
    "print(cur.fetchall())"
   ]
  },
  {
   "cell_type": "code",
   "execution_count": 30,
   "metadata": {},
   "outputs": [
    {
     "name": "stdout",
     "output_type": "stream",
     "text": [
      "[(0.02824213973965028,)]\n"
     ]
    }
   ],
   "source": [
    "#query №6.2. The query 6.2 is aimed to get information about vowel duration of female speakers in speaking condition. One can easily compare results of queries 6.1 and 6.2.\n",
    "\n",
    "cur.execute('SELECT AVG(duration) FROM speakers WHERE gender = \\'f\\' AND condition = 1')\n",
    "print(cur.fetchall())"
   ]
  },
  {
   "cell_type": "code",
   "execution_count": 31,
   "metadata": {},
   "outputs": [
    {
     "name": "stdout",
     "output_type": "stream",
     "text": [
      "Collecting seaborn\n",
      "  Downloading seaborn-0.11.0-py3-none-any.whl (283 kB)\n",
      "\u001b[K     |████████████████████████████████| 283 kB 2.9 MB/s eta 0:00:01\n",
      "\u001b[?25hRequirement already satisfied: pandas>=0.23 in /srv/conda/envs/notebook/lib/python3.6/site-packages (from seaborn) (1.1.3)\n",
      "Requirement already satisfied: numpy>=1.15 in /srv/conda/envs/notebook/lib/python3.6/site-packages (from seaborn) (1.19.1)\n",
      "Requirement already satisfied: scipy>=1.0 in /srv/conda/envs/notebook/lib/python3.6/site-packages (from seaborn) (1.5.2)\n",
      "Requirement already satisfied: matplotlib>=2.2 in /srv/conda/envs/notebook/lib/python3.6/site-packages (from seaborn) (3.3.2)\n",
      "Requirement already satisfied: pytz>=2017.2 in /srv/conda/envs/notebook/lib/python3.6/site-packages (from pandas>=0.23->seaborn) (2020.1)\n",
      "Requirement already satisfied: python-dateutil>=2.7.3 in /srv/conda/envs/notebook/lib/python3.6/site-packages (from pandas>=0.23->seaborn) (2.8.1)\n",
      "Requirement already satisfied: cycler>=0.10 in /srv/conda/envs/notebook/lib/python3.6/site-packages/cycler-0.10.0-py3.6.egg (from matplotlib>=2.2->seaborn) (0.10.0)\n",
      "Requirement already satisfied: kiwisolver>=1.0.1 in /srv/conda/envs/notebook/lib/python3.6/site-packages (from matplotlib>=2.2->seaborn) (1.2.0)\n",
      "Requirement already satisfied: certifi>=2020.06.20 in /srv/conda/envs/notebook/lib/python3.6/site-packages (from matplotlib>=2.2->seaborn) (2020.6.20)\n",
      "Requirement already satisfied: pillow>=6.2.0 in /srv/conda/envs/notebook/lib/python3.6/site-packages (from matplotlib>=2.2->seaborn) (7.2.0)\n",
      "Requirement already satisfied: pyparsing!=2.0.4,!=2.1.2,!=2.1.6,>=2.0.3 in /srv/conda/envs/notebook/lib/python3.6/site-packages (from matplotlib>=2.2->seaborn) (2.4.7)\n",
      "Requirement already satisfied: six>=1.5 in /srv/conda/envs/notebook/lib/python3.6/site-packages (from python-dateutil>=2.7.3->pandas>=0.23->seaborn) (1.15.0)\n",
      "Installing collected packages: seaborn\n",
      "Successfully installed seaborn-0.11.0\n"
     ]
    }
   ],
   "source": [
    "! pip install seaborn\n",
    "\n",
    "import matplotlib.pyplot as plt\n",
    "import seaborn as sns"
   ]
  },
  {
   "cell_type": "code",
   "execution_count": 32,
   "metadata": {},
   "outputs": [
    {
     "data": {
      "text/plain": [
       "Text(0, 0.5, 'Words count')"
      ]
     },
     "execution_count": 32,
     "metadata": {},
     "output_type": "execute_result"
    },
    {
     "data": {
      "image/png": "[encoded data removed]",
      "text/plain": [
       "<Figure size 720x432 with 1 Axes>"
      ]
     },
     "metadata": {
      "needs_background": "light"
     },
     "output_type": "display_data"
    }
   ],
   "source": [
    "#The barplot illustrates the total number of the words by group of reduced vowel.\n",
    "\n",
    "df_groups.group_id.value_counts().plot(figsize=(10,6), kind='bar')\n",
    "plt.title('Words count in groups')\n",
    "plt.xlabel('Group ID')\n",
    "plt.ylabel('Words count')"
   ]
  },
  {
   "cell_type": "code",
   "execution_count": 33,
   "metadata": {},
   "outputs": [
    {
     "data": {
      "text/plain": [
       "Text(0.5, 1.0, 'Words count by speaker')"
      ]
     },
     "execution_count": 33,
     "metadata": {},
     "output_type": "execute_result"
    },
    {
     "data": {
      "image/png": "[encoded data removed]",
      "text/plain": [
       "<Figure size 720x432 with 1 Axes>"
      ]
     },
     "metadata": {},
     "output_type": "display_data"
    }
   ],
   "source": [
    "#The pie chart demontrates the distribution of the total amount of words pronounced by speaker. The amount of words approximately equal for each speaker.\n",
    "\n",
    "df_analysis.groupby('speaker').word.count().plot(figsize=(10,6), kind='pie')\n",
    "plt.title('Words count by speaker')\n"
   ]
  },
  {
   "cell_type": "code",
   "execution_count": 34,
   "metadata": {},
   "outputs": [
    {
     "data": {
      "text/plain": [
       "Text(0.5, 1.0, 'Duration boxplot by speaker')"
      ]
     },
     "execution_count": 34,
     "metadata": {},
     "output_type": "execute_result"
    },
    {
     "data": {
      "image/png": "[encoded data removed]",
      "text/plain": [
       "<Figure size 720x432 with 1 Axes>"
      ]
     },
     "metadata": {
      "needs_background": "light"
     },
     "output_type": "display_data"
    }
   ],
   "source": [
    "#I want to get information of the distribution of duration by each speaker; boxplots are perfect solution for this case. \n",
    "\n",
    "\n",
    "df_analysis.boxplot(by=['speaker'], column='duration', figsize=(10,6))\n",
    "plt.title('Duration boxplot by speaker')\n"
   ]
  },
  {
   "cell_type": "code",
   "execution_count": 35,
   "metadata": {},
   "outputs": [
    {
     "data": {
      "text/plain": [
       "Text(0.5, 1.0, 'Speaker average duration by condition')"
      ]
     },
     "execution_count": 35,
     "metadata": {},
     "output_type": "execute_result"
    },
    {
     "data": {
      "image/png": "[encoded data removed]",
      "text/plain": [
       "<Figure size 720x432 with 1 Axes>"
      ]
     },
     "metadata": {
      "needs_background": "light"
     },
     "output_type": "display_data"
    }
   ],
   "source": [
    "#My aim was to compare reduced vowels duration by condition (reading or speaking) for every speaker. That is why I chose doubled barplots.\n",
    "\n",
    "df2 = df_analysis.groupby(['condition','speaker'], as_index=False).duration.mean()\n",
    "plt.figure(figsize=(10,6))\n",
    "sns.barplot(x = 'speaker', y = 'duration', hue = 'condition', data = df2)\n",
    "plt.title('Speaker average duration by condition')\n"
   ]
  },
  {
   "cell_type": "code",
   "execution_count": null,
   "metadata": {},
   "outputs": [],
   "source": [
    "##Formulated idea for the final project: \n",
    "#My main goal is to collect a database of 10-15 texts (classical Russian literature; school curriculum; grades 10-11). The parameters (columns) will be characteristics of the text (year of publication, amount of the words, author, number of unique words, etc.). Book rating will be considered as an additional parameter. To get the rating, I will send the eleventh-graders of the HSE Lyceum a survey in which they will have to rate the overall impression of the book from 1 (I hate this book) to 10 (I will learn every word from the book by heart). Based on the data, I visualize the parameters of the texts; provide top-5 books from the Russian school curriculum (maybe I will find an explanation: length or year parameters may influence the 'mark'); suggest which books are better not to read with students; make some exercises for the classes (for instance, guesing the book by the most frequent words). If you have any other suggestion, I am looking forward to getting them!"
   ]
  }
 ],
 "metadata": {
  "kernelspec": {
   "display_name": "Python 3",
   "language": "python",
   "name": "python3"
  },
  "language_info": {
   "codemirror_mode": {
    "name": "ipython",
    "version": 3
   },
   "file_extension": ".py",
   "mimetype": "text/x-python",
   "name": "python",
   "nbconvert_exporter": "python",
   "pygments_lexer": "ipython3",
   "version": "3.6.11"
  }
 },
 "nbformat": 4,
 "nbformat_minor": 4
}
