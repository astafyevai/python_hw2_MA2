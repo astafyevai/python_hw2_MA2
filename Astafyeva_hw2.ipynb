##Take some data (it could be the results of an experiment you conducted, some fieldwork data, or anything else that could be useful for your research or work)


##Create a database with at least two tables and save your data in it 
###commentary about the architecture of the database and why it fits the data


##Provide six different queries to your database 
###comments about what the queries aim to achieve


##Draw four different plots depicting your data
###the comments about the selected types of plots and the results


##Formulated idea for the final project: 
My main goal is to collect a database of 10-15 texts (classical Russian literature; school curriculum; grades 10-11). The parameters (columns) will be characteristics of the text (year of publication, amount of the words, author, number of unique words, etc.). Book rating will be considered as an additional parameter. To get the rating, I will send the eleventh-graders of the HSE Lyceum a survey in which they will have to rate the overall impression of the book from 1 (I hate this book) to 10 (I will learn every word from the book by heart). Based on the data, I visualize the parameters of the texts; provide top-5 books from the Russian school curriculum (maybe I will find an explanation: length or year parameters may influence the 'mark'); suggest which books are better not to read with students; make some exercises for the classes (for instance, guesing the book by the most frequent words). If you have any other suggestion, I am looking forward to getting them!
